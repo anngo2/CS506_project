{
  "nbformat": 4,
  "nbformat_minor": 0,
  "metadata": {
    "colab": {
      "provenance": []
    },
    "kernelspec": {
      "name": "python3",
      "display_name": "Python 3"
    },
    "language_info": {
      "name": "python"
    }
  },
  "cells": [
    {
      "cell_type": "code",
      "source": [
        "import pandas as pd\n",
        "from sklearn.feature_extraction.text import CountVectorizer\n",
        "\n",
        "\n",
        "df = pd.read_csv('property_and_building_violations.csv')\n",
        "\n",
        "\n",
        "descriptions = df['description'].dropna().astype(str).str.lower()\n",
        "\n",
        "\n",
        "vectorizer = CountVectorizer(ngram_range=(3, 3), stop_words='english')\n",
        "X = vectorizer.fit_transform(descriptions)\n",
        "\n",
        "\n",
        "sum_words = X.sum(axis=0)\n",
        "words_freq = [(word, sum_words[0, idx]) for word, idx in vectorizer.vocabulary_.items()]\n",
        "words_freq = sorted(words_freq, key=lambda x: x[1], reverse=True)\n",
        "\n",
        "\n",
        "freq_df = pd.DataFrame(words_freq[:50], columns=['trigram', 'count'])\n",
        "print(freq_df)\n"
      ],
      "metadata": {
        "colab": {
          "base_uri": "https://localhost:8080/"
        },
        "id": "BVNGamUR382Q",
        "outputId": "c24d96ec-4881-4c10-c76d-cf68529f1035"
      },
      "execution_count": 17,
      "outputs": [
        {
          "output_type": "stream",
          "name": "stdout",
          "text": [
            "                        trigram  count\n",
            "0         failure obtain permit   4006\n",
            "1          failed comply permit    444\n",
            "2            comply permit term    444\n",
            "3         failure secure permit    421\n",
            "4          building use premise    285\n",
            "5               use premise req    285\n",
            "6       protection adj property    264\n",
            "7           use premises permit     65\n",
            "8        electrical work permit     62\n",
            "9     mechanical execution work     60\n",
            "10     maintenance means egress     42\n",
            "11      emergency escape rescue     40\n",
            "12          guarding live parts     38\n",
            "13           failed comply prmt     38\n",
            "14            comply prmt terms     38\n",
            "15          mass state plumbing     30\n",
            "16          state plumbing code     30\n",
            "17            exits exit access     25\n",
            "18            number exits exit     24\n",
            "19     illegally occupied prior     23\n",
            "20            acts 1956 amended     21\n",
            "21              stop work order     20\n",
            "22      accessible means egress     18\n",
            "23  municipal bylaws ordinances     17\n",
            "24          permits perform gas     16\n",
            "25          perform gas fitting     16\n",
            "26            access public way     16\n",
            "27        reg construction hour     14\n",
            "28          revocation cert occ     11\n",
            "29             failure req insp     10\n",
            "30        mass state electrical     10\n",
            "31        state electrical code     10\n",
            "32          failure comply bldg     10\n",
            "33             comply bldg code     10\n",
            "34         minimum number exits      9\n",
            "35   referenced codes standards      9\n",
            "36            national fuel gas      7\n",
            "37                fuel gas code      7\n",
            "38       door operations egress      7\n",
            "39      operations egress doors      7\n",
            "40    inspection exterior walls      6\n",
            "41    egress intervening spaces      5\n",
            "42            flex cords cables      5\n",
            "43        cords cables permited      5\n",
            "44    means egress illumination      5\n",
            "45       elec equip connections      5\n",
            "46   mounting cooling equipment      5\n",
            "47          guarding live ports      5\n",
            "48  considered outside building      4\n",
            "49           common area branch      4\n"
          ]
        }
      ]
    },
    {
      "cell_type": "code",
      "source": [
        "import pandas as pd\n",
        "\n",
        "\n",
        "df = pd.read_csv('property_and_building_violations.csv')\n",
        "\n",
        "\n",
        "def categorize_violation(desc):\n",
        "    if pd.isna(desc):\n",
        "        return 'Unknown'\n",
        "    desc = desc.upper()\n",
        "    if 'PERMIT' in desc or 'COMPLY' in desc:\n",
        "        return 'Permit Issues'\n",
        "    elif 'MAINTAIN' in desc:\n",
        "        return 'Property Maintenance Issue'\n",
        "    elif 'UNSAFE' in desc or 'DANGEROUS' in desc:\n",
        "        return 'Unsafe Conditions'\n",
        "    elif 'ELECTRICAL' in desc or 'WIRING' in desc:\n",
        "        return 'Electrical Violation'\n",
        "    elif 'PREMISE' in desc:\n",
        "        return 'Premise Violation'\n",
        "    elif 'CERTIFICATION' in desc:\n",
        "        return 'Certification Issues'\n",
        "    elif 'WATER' in desc or 'PLUMBING' in desc:\n",
        "        return 'Water Violation'\n",
        "    else:\n",
        "        return 'Other'\n",
        "\n",
        "\n",
        "df['violation_category'] = df['description'].apply(categorize_violation)\n",
        "\n",
        "\n",
        "df['ward_str'] = df['ward'].astype(str).str.strip()\n",
        "df = df[df['ward_str'].str.isdigit()]\n",
        "\n",
        "\n",
        "agg = df.groupby(['violation_category', 'ward_str'], as_index=False).agg(count=('case_no', 'count'))\n",
        "\n",
        "\n",
        "csv_path = 'violation_counts_by_category_ward.csv'\n",
        "agg.to_csv(csv_path, index=False)\n",
        "\n",
        "\n",
        "print(\"Preview: Counts by Category and Ward\", agg.head(20))\n",
        "\n",
        "print(f\"CSV file saved to: {csv_path}\")\n"
      ],
      "metadata": {
        "colab": {
          "base_uri": "https://localhost:8080/"
        },
        "id": "9FdBsA83B_MS",
        "outputId": "62a621a3-e5c6-4a91-d628-5b79cb1690f3"
      },
      "execution_count": 20,
      "outputs": [
        {
          "output_type": "stream",
          "name": "stdout",
          "text": [
            "Preview: Counts by Category and Ward       violation_category ward_str  count\n",
            "0   Certification Issues       01     98\n",
            "1   Certification Issues       02      7\n",
            "2   Certification Issues       03    320\n",
            "3   Certification Issues       04     35\n",
            "4   Certification Issues       05    174\n",
            "5   Certification Issues       06     21\n",
            "6   Certification Issues       07     20\n",
            "7   Certification Issues       08     15\n",
            "8   Certification Issues       09     38\n",
            "9   Certification Issues       10      9\n",
            "10  Certification Issues       11      5\n",
            "11  Certification Issues       12      9\n",
            "12  Certification Issues       13     13\n",
            "13  Certification Issues       14     17\n",
            "14  Certification Issues       15      4\n",
            "15  Certification Issues       16      2\n",
            "16  Certification Issues       17      1\n",
            "17  Certification Issues       18     31\n",
            "18  Certification Issues       19      2\n",
            "19  Certification Issues       20      2\n",
            "CSV file saved to: violation_counts_by_category_ward.csv\n"
          ]
        }
      ]
    },
    {
      "cell_type": "markdown",
      "source": [
        "CHECK OUT THE FLOURISH VISUALIZATIONS HERE: https://public.flourish.studio/visualisation/22902450/"
      ],
      "metadata": {
        "id": "m3bgBTy3Dq3U"
      }
    },
    {
      "cell_type": "code",
      "source": [
        "import pandas as pd\n",
        "import numpy as np\n",
        "from datetime import datetime\n",
        "from sklearn.model_selection import train_test_split\n",
        "from sklearn.pipeline import Pipeline\n",
        "from sklearn.impute import SimpleImputer\n",
        "from sklearn.preprocessing import StandardScaler\n",
        "from sklearn.ensemble import RandomForestClassifier\n",
        "\n",
        "\n",
        "\n",
        "viol = pd.read_csv(\n",
        "    'property_and_building_violations.csv',\n",
        "    usecols=['case_no','sam_id','status','status_dttm','description'],\n",
        "    parse_dates=['status_dttm'],\n",
        "    nrows=5000\n",
        ")\n",
        "\n",
        "\n",
        "sam = pd.read_csv(\n",
        "    'SAM_ID.csv',\n",
        "    usecols=['SAM_ADDRESS_ID','FULL_ADDRESS','created_date'],\n",
        "    parse_dates=['created_date']\n",
        ")\n",
        "\n",
        "\n",
        "def categorize_violation(desc):\n",
        "    if pd.isna(desc): return 'Other'\n",
        "    d = desc.upper()\n",
        "    if 'PERMIT' in d or 'COMPLY' in d: return 'Permit Issues'\n",
        "    if 'MAINTAIN' in d: return 'Property Maintenance'\n",
        "    if 'UNSAFE' in d or 'DANGEROUS' in d: return 'Unsafe Conditions'\n",
        "    if 'ELECTRICAL' in d or 'WIRING' in d: return 'Electrical'\n",
        "    if 'PREMISE' in d: return 'Premise'\n",
        "    if 'CERTIFICATION' in d: return 'Certification'\n",
        "    if 'WATER' in d or 'PLUMBING' in d: return 'Water'\n",
        "    return 'Other'\n",
        "\n",
        "viol['violation_cat'] = viol['description'].apply(categorize_violation)\n",
        "\n",
        "\n",
        "viol = viol.merge(\n",
        "    sam[['SAM_ADDRESS_ID','created_date','FULL_ADDRESS']],\n",
        "    left_on='sam_id', right_on='SAM_ADDRESS_ID',\n",
        "    how='left'\n",
        ")\n",
        "\n",
        "\n",
        "now = datetime.now()\n",
        "agg1 = viol.groupby('sam_id').agg(\n",
        "    total_violations=('case_no','count'),\n",
        "    days_since_last=('status_dttm', lambda ts: (now - ts.max()).days),\n",
        "    days_since_sam_created=('created_date', lambda ds: (now - ds.max()).days)\n",
        ")\n",
        "cat_counts = viol.pivot_table(\n",
        "    index='sam_id', columns='violation_cat', values='case_no', aggfunc='count', fill_value=0\n",
        ")\n",
        "features = agg1.join(cat_counts, how='left').fillna(0)\n",
        "features['scofflaw'] = (\n",
        "    (features.total_violations>=6) |\n",
        "    (viol.groupby('sam_id')['status'].apply(lambda s: (s=='Open').any()))\n",
        ").astype(int)\n",
        "\n",
        "\n",
        "X = features.drop(columns='scofflaw')\n",
        "y = features['scofflaw']\n",
        "X_train, X_test, y_train, y_test = train_test_split(X,y,test_size=0.2,stratify=y,random_state=42)\n",
        "pipe = Pipeline([('imp',SimpleImputer(strategy='median')),('sc',StandardScaler()),('rfc',RandomForestClassifier(n_estimators=20,random_state=42))])\n",
        "pipe.fit(X_train,y_train)\n",
        "\n",
        "#predicting\n",
        "features['risk_score'] = pipe.predict_proba(X)[:,1]\n",
        "results = features[['risk_score','total_violations']].reset_index().merge(\n",
        "    sam[['SAM_ADDRESS_ID','FULL_ADDRESS']],\n",
        "    left_on='sam_id', right_on='SAM_ADDRESS_ID', how='left'\n",
        ")\n",
        "\n",
        "# 8) Display top 10\n",
        "top10 = results.sort_values('risk_score', ascending=False)\n",
        "print(\"Top 10 High-Risk Properties (Sample)\", top10[['FULL_ADDRESS','sam_id','total_violations','risk_score']])\n",
        "\n",
        "# 9) Save CSV\n",
        "csv_path = 'risk_scores_sample.csv'\n",
        "results.to_csv(csv_path, index=False)\n",
        "csv_path\n"
      ],
      "metadata": {
        "colab": {
          "base_uri": "https://localhost:8080/",
          "height": 278
        },
        "id": "TYhW63ooGCMw",
        "outputId": "cf9b7883-97b9-4714-c846-faa487647fc0"
      },
      "execution_count": 26,
      "outputs": [
        {
          "output_type": "stream",
          "name": "stdout",
          "text": [
            "Top 10 High-Risk Properties (Sample)                FULL_ADDRESS    sam_id  total_violations  risk_score\n",
            "1749  543 Massachusetts Ave   92356.0                 1         1.0\n",
            "31        471-473 Albany St    1541.0                 1         1.0\n",
            "398          548 E Broadway   21002.0                 1         1.0\n",
            "1138          54 Gardner St   62619.0                 3         1.0\n",
            "2422         40 Rosemont St  118489.0                 1         1.0\n",
            "...                     ...       ...               ...         ...\n",
            "1025          11 Fayette St   56953.0                 1         0.0\n",
            "1023         65 Farragut Rd   56534.0                 1         0.0\n",
            "1022        107 Farquhar St   56406.0                 1         0.0\n",
            "1021    47-53 Farnsworth St   56399.0                 1         0.0\n",
            "1003    41-49 Fairmount Ave   55744.0                 1         0.0\n",
            "\n",
            "[3640 rows x 4 columns]\n"
          ]
        },
        {
          "output_type": "execute_result",
          "data": {
            "text/plain": [
              "'risk_scores_sample.csv'"
            ],
            "application/vnd.google.colaboratory.intrinsic+json": {
              "type": "string"
            }
          },
          "metadata": {},
          "execution_count": 26
        }
      ]
    },
    {
      "cell_type": "code",
      "source": [
        "import pandas as pd\n",
        "\n",
        "# risk scores and their wards\n",
        "prop = pd.read_csv('risk_scores_sample.csv')\n",
        "sam  = pd.read_csv('SAM_ID.csv', usecols=['SAM_ADDRESS_ID','WARD'], dtype={'WARD':str})\n",
        "\n",
        "merged = prop.merge(sam, left_on='sam_id', right_on='SAM_ADDRESS_ID', how='left')\n",
        "ward_risk = merged.groupby('WARD', as_index=False).agg(avg_risk=('risk_score','mean'))\n",
        "ward_risk.to_csv('risk_scores_by_ward.csv', index=False)\n"
      ],
      "metadata": {
        "id": "Jabu6QQJLPkc"
      },
      "execution_count": null,
      "outputs": []
    },
    {
      "cell_type": "markdown",
      "source": [
        "View VISUALIZATIONS HERE: https://public.flourish.studio/visualisation/22902951/"
      ],
      "metadata": {
        "id": "t5sKBuc4LVbt"
      }
    }
  ]
}
