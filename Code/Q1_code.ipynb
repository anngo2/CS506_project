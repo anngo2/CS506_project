{
  "cells": [
    {
      "cell_type": "code",
      "execution_count": 3,
      "id": "d7ca566e",
      "metadata": {
        "colab": {
          "base_uri": "https://localhost:8080/"
        },
        "id": "d7ca566e",
        "outputId": "3192fde4-4823-405f-84d0-a1cc87beb47e"
      },
      "outputs": [
        {
          "output_type": "stream",
          "name": "stderr",
          "text": [
            "<ipython-input-3-36dae2179e26>:9: DtypeWarning: Columns (4,7,8) have mixed types. Specify dtype option on import or set low_memory=False.\n",
            "  df_students = pd.read_csv(student_file)\n"
          ]
        }
      ],
      "source": [
        "# Student Housing Conditions Analysis\n",
        "\n",
        "import pandas as pd\n",
        "\n",
        "# === Load the Data ===\n",
        "student_file = \"StudentAddresses-2016-2024.xlsx - Sheet1.csv\"\n",
        "violation_file = \"800a2663-1d6a-46e7-9356-bedb70f5332c.csv\"\n",
        "\n",
        "df_students = pd.read_csv(student_file)\n",
        "df_violations = pd.read_csv(violation_file)\n",
        "\n",
        "# === Clean Student Data ===\n",
        "df_students.columns = [\n",
        "    \"street_number\", \"street_name\", \"street_suffix\", \"unit_number\", \"zip_code\",\n",
        "    \"student_level\", \"enrollment_status\", \"at_home\", \"five_plus_students\",\n",
        "    \"university\", \"year\"\n",
        "]\n",
        "\n",
        "df_students[\"zip_code\"] = df_students[\"zip_code\"].astype(str).str.zfill(5)\n",
        "df_students[\"street_number\"] = df_students[\"street_number\"].astype(str).str.extract(r\"(\\d+)\")[0].fillna(\"\")\n",
        "df_students[\"street_name\"] = df_students[\"street_name\"].astype(str).str.strip().str.upper()\n",
        "df_students[\"simple_address_key\"] = (\n",
        "    df_students[\"street_number\"] + \" \" +\n",
        "    df_students[\"street_name\"] + \" \" +\n",
        "    df_students[\"zip_code\"]\n",
        ").str.replace(r\"\\s+\", \" \", regex=True).str.strip()\n",
        "\n",
        "# === Clean Violation Data ===\n",
        "df_violations[\"violation_zip\"] = df_violations[\"violation_zip\"].astype(str).str.zfill(5)\n",
        "df_violations[\"violation_stno\"] = df_violations[\"violation_stno\"].astype(str).str.extract(r\"(\\d+)\")[0].fillna(\"\")\n",
        "df_violations[\"violation_street\"] = df_violations[\"violation_street\"].astype(str).str.strip().str.upper()\n",
        "df_violations[\"simple_address_key\"] = (\n",
        "    df_violations[\"violation_stno\"] + \" \" +\n",
        "    df_violations[\"violation_street\"] + \" \" +\n",
        "    df_violations[\"violation_zip\"]\n",
        ").str.replace(r\"\\s+\", \" \", regex=True).str.strip()\n",
        "\n",
        "# === Group and Merge ===\n",
        "students_grouped = df_students.groupby(\"simple_address_key\").size().reset_index(name=\"student_count\")\n",
        "violations_grouped = df_violations.groupby(\"simple_address_key\").size().reset_index(name=\"violation_count\")\n",
        "\n",
        "merged_df = pd.merge(\n",
        "    students_grouped,\n",
        "    violations_grouped,\n",
        "    on=\"simple_address_key\",\n",
        "    how=\"left\"\n",
        ")\n",
        "merged_df[\"violation_count\"] = merged_df[\"violation_count\"].fillna(0).astype(int)\n",
        "\n",
        "# === Filter for Addresses with Both Students and Violations ===\n",
        "matched = merged_df[merged_df[\"violation_count\"] > 0]\n",
        "# matched.sort_values(by=[\"violation_count\", \"student_count\"], ascending=False).head(10)\n",
        "matched.to_csv(\"Student_Housing_with_Violations.csv\", index=False)"
      ]
    }
  ],
  "metadata": {
    "colab": {
      "provenance": []
    },
    "language_info": {
      "name": "python"
    },
    "kernelspec": {
      "name": "python3",
      "display_name": "Python 3"
    }
  },
  "nbformat": 4,
  "nbformat_minor": 5
}
