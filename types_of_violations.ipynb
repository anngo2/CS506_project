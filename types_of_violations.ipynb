{
  "nbformat": 4,
  "nbformat_minor": 0,
  "metadata": {
    "colab": {
      "provenance": []
    },
    "kernelspec": {
      "name": "python3",
      "display_name": "Python 3"
    },
    "language_info": {
      "name": "python"
    }
  },
  "cells": [
    {
      "cell_type": "code",
      "source": [
        "import pandas as pd\n",
        "from sklearn.feature_extraction.text import CountVectorizer\n",
        "\n",
        "\n",
        "df = pd.read_csv('property_and_building_violations.csv')\n",
        "\n",
        "\n",
        "descriptions = df['description'].dropna().astype(str).str.lower()\n",
        "\n",
        "\n",
        "vectorizer = CountVectorizer(ngram_range=(3, 3), stop_words='english')\n",
        "X = vectorizer.fit_transform(descriptions)\n",
        "\n",
        "\n",
        "sum_words = X.sum(axis=0)\n",
        "words_freq = [(word, sum_words[0, idx]) for word, idx in vectorizer.vocabulary_.items()]\n",
        "words_freq = sorted(words_freq, key=lambda x: x[1], reverse=True)\n",
        "\n",
        "\n",
        "freq_df = pd.DataFrame(words_freq[:50], columns=['trigram', 'count'])\n",
        "print(freq_df)\n"
      ],
      "metadata": {
        "colab": {
          "base_uri": "https://localhost:8080/"
        },
        "id": "BVNGamUR382Q",
        "outputId": "c24d96ec-4881-4c10-c76d-cf68529f1035"
      },
      "execution_count": 17,
      "outputs": [
        {
          "output_type": "stream",
          "name": "stdout",
          "text": [
            "                        trigram  count\n",
            "0         failure obtain permit   4006\n",
            "1          failed comply permit    444\n",
            "2            comply permit term    444\n",
            "3         failure secure permit    421\n",
            "4          building use premise    285\n",
            "5               use premise req    285\n",
            "6       protection adj property    264\n",
            "7           use premises permit     65\n",
            "8        electrical work permit     62\n",
            "9     mechanical execution work     60\n",
            "10     maintenance means egress     42\n",
            "11      emergency escape rescue     40\n",
            "12          guarding live parts     38\n",
            "13           failed comply prmt     38\n",
            "14            comply prmt terms     38\n",
            "15          mass state plumbing     30\n",
            "16          state plumbing code     30\n",
            "17            exits exit access     25\n",
            "18            number exits exit     24\n",
            "19     illegally occupied prior     23\n",
            "20            acts 1956 amended     21\n",
            "21              stop work order     20\n",
            "22      accessible means egress     18\n",
            "23  municipal bylaws ordinances     17\n",
            "24          permits perform gas     16\n",
            "25          perform gas fitting     16\n",
            "26            access public way     16\n",
            "27        reg construction hour     14\n",
            "28          revocation cert occ     11\n",
            "29             failure req insp     10\n",
            "30        mass state electrical     10\n",
            "31        state electrical code     10\n",
            "32          failure comply bldg     10\n",
            "33             comply bldg code     10\n",
            "34         minimum number exits      9\n",
            "35   referenced codes standards      9\n",
            "36            national fuel gas      7\n",
            "37                fuel gas code      7\n",
            "38       door operations egress      7\n",
            "39      operations egress doors      7\n",
            "40    inspection exterior walls      6\n",
            "41    egress intervening spaces      5\n",
            "42            flex cords cables      5\n",
            "43        cords cables permited      5\n",
            "44    means egress illumination      5\n",
            "45       elec equip connections      5\n",
            "46   mounting cooling equipment      5\n",
            "47          guarding live ports      5\n",
            "48  considered outside building      4\n",
            "49           common area branch      4\n"
          ]
        }
      ]
    },
    {
      "cell_type": "code",
      "source": [
        "import pandas as pd\n",
        "\n",
        "\n",
        "df = pd.read_csv('property_and_building_violations.csv')\n",
        "\n",
        "\n",
        "def categorize_violation(desc):\n",
        "    if pd.isna(desc):\n",
        "        return 'Unknown'\n",
        "    desc = desc.upper()\n",
        "    if 'PERMIT' in desc or 'COMPLY' in desc:\n",
        "        return 'Permit Issues'\n",
        "    elif 'MAINTAIN' in desc:\n",
        "        return 'Property Maintenance Issue'\n",
        "    elif 'UNSAFE' in desc or 'DANGEROUS' in desc:\n",
        "        return 'Unsafe Conditions'\n",
        "    elif 'ELECTRICAL' in desc or 'WIRING' in desc:\n",
        "        return 'Electrical Violation'\n",
        "    elif 'PREMISE' in desc:\n",
        "        return 'Premise Violation'\n",
        "    elif 'CERTIFICATION' in desc:\n",
        "        return 'Certification Issues'\n",
        "    elif 'WATER' in desc or 'PLUMBING' in desc:\n",
        "        return 'Water Violation'\n",
        "    else:\n",
        "        return 'Other'\n",
        "\n",
        "\n",
        "df['violation_category'] = df['description'].apply(categorize_violation)\n",
        "\n",
        "\n",
        "df['ward_str'] = df['ward'].astype(str).str.strip()\n",
        "df = df[df['ward_str'].str.isdigit()]\n",
        "\n",
        "\n",
        "agg = df.groupby(['violation_category', 'ward_str'], as_index=False).agg(count=('case_no', 'count'))\n",
        "\n",
        "\n",
        "csv_path = 'violation_counts_by_category_ward.csv'\n",
        "agg.to_csv(csv_path, index=False)\n",
        "\n",
        "\n",
        "print(\"Preview: Counts by Category and Ward\", agg.head(20))\n",
        "\n",
        "print(f\"CSV file saved to: {csv_path}\")\n"
      ],
      "metadata": {
        "colab": {
          "base_uri": "https://localhost:8080/"
        },
        "id": "9FdBsA83B_MS",
        "outputId": "62a621a3-e5c6-4a91-d628-5b79cb1690f3"
      },
      "execution_count": 20,
      "outputs": [
        {
          "output_type": "stream",
          "name": "stdout",
          "text": [
            "Preview: Counts by Category and Ward       violation_category ward_str  count\n",
            "0   Certification Issues       01     98\n",
            "1   Certification Issues       02      7\n",
            "2   Certification Issues       03    320\n",
            "3   Certification Issues       04     35\n",
            "4   Certification Issues       05    174\n",
            "5   Certification Issues       06     21\n",
            "6   Certification Issues       07     20\n",
            "7   Certification Issues       08     15\n",
            "8   Certification Issues       09     38\n",
            "9   Certification Issues       10      9\n",
            "10  Certification Issues       11      5\n",
            "11  Certification Issues       12      9\n",
            "12  Certification Issues       13     13\n",
            "13  Certification Issues       14     17\n",
            "14  Certification Issues       15      4\n",
            "15  Certification Issues       16      2\n",
            "16  Certification Issues       17      1\n",
            "17  Certification Issues       18     31\n",
            "18  Certification Issues       19      2\n",
            "19  Certification Issues       20      2\n",
            "CSV file saved to: violation_counts_by_category_ward.csv\n"
          ]
        }
      ]
    },
    {
      "cell_type": "markdown",
      "source": [
        "CHECK OUT THE FLOURISH VISUALIZATIONS HERE: https://public.flourish.studio/visualisation/22902450/"
      ],
      "metadata": {
        "id": "m3bgBTy3Dq3U"
      }
    }
  ]
}