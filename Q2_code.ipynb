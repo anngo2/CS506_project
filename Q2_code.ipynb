{
 "cells": [
  {
   "cell_type": "markdown",
   "metadata": {},
   "source": [
    "# This is going to Be Rigs domain : Do not touch \n"
   ]
  },
  {
   "cell_type": "markdown",
   "metadata": {},
   "source": [
    "## What are the trends regarding student housing across the city, by district, e.g. what % of the rental housing is taken up by students for each district and how has this changed over time?\n"
   ]
  },
  {
   "cell_type": "code",
   "execution_count": 14,
   "metadata": {},
   "outputs": [],
   "source": [
    "import numpy as np\n",
    "import pandas as pd\n",
    "import matplotlib.pyplot as plt"
   ]
  },
  {
   "cell_type": "code",
   "execution_count": null,
   "metadata": {},
   "outputs": [
    {
     "name": "stdout",
     "output_type": "stream",
     "text": [
      "                       full_address\n",
      "0               10 Higgins ST, 2134\n",
      "1               10 Higgins ST, 2134\n",
      "2       1189 Commonwealth AVE, 2134\n",
      "3            12 Glenville AVE, 2134\n",
      "4            12 Glenville AVE, 2134\n",
      "...                             ...\n",
      "310326                          NaN\n",
      "310327                          NaN\n",
      "310328         15 SYMPHONY RD, 2215\n",
      "310329    37 PAUL GORE STREET, 2130\n",
      "310330    300 HARRISON AVENUE, 2118\n",
      "\n",
      "[310331 rows x 1 columns]\n"
     ]
    },
    {
     "data": {
      "text/html": [
       "<div>\n",
       "<style scoped>\n",
       "    .dataframe tbody tr th:only-of-type {\n",
       "        vertical-align: middle;\n",
       "    }\n",
       "\n",
       "    .dataframe tbody tr th {\n",
       "        vertical-align: top;\n",
       "    }\n",
       "\n",
       "    .dataframe thead th {\n",
       "        text-align: right;\n",
       "    }\n",
       "</style>\n",
       "<table border=\"1\" class=\"dataframe\">\n",
       "  <thead>\n",
       "    <tr style=\"text-align: right;\">\n",
       "      <th></th>\n",
       "      <th>7. undergraduate (u) or graduate (g)</th>\n",
       "      <th>8. full-time (ft) or part-time (pt)</th>\n",
       "      <th>9. 5 or more undergrads/unit (y/n)</th>\n",
       "      <th>university</th>\n",
       "      <th>year</th>\n",
       "      <th>full_address</th>\n",
       "    </tr>\n",
       "  </thead>\n",
       "  <tbody>\n",
       "    <tr>\n",
       "      <th>0</th>\n",
       "      <td>U</td>\n",
       "      <td>FT</td>\n",
       "      <td>NaN</td>\n",
       "      <td>Emmanuel College</td>\n",
       "      <td>2018-2019</td>\n",
       "      <td>10 Higgins ST, 2134</td>\n",
       "    </tr>\n",
       "    <tr>\n",
       "      <th>1</th>\n",
       "      <td>U</td>\n",
       "      <td>FT</td>\n",
       "      <td>NaN</td>\n",
       "      <td>Emmanuel College</td>\n",
       "      <td>2018-2019</td>\n",
       "      <td>10 Higgins ST, 2134</td>\n",
       "    </tr>\n",
       "    <tr>\n",
       "      <th>2</th>\n",
       "      <td>U</td>\n",
       "      <td>FT</td>\n",
       "      <td>NaN</td>\n",
       "      <td>Emmanuel College</td>\n",
       "      <td>2018-2019</td>\n",
       "      <td>1189 Commonwealth AVE, 2134</td>\n",
       "    </tr>\n",
       "    <tr>\n",
       "      <th>3</th>\n",
       "      <td>U</td>\n",
       "      <td>FT</td>\n",
       "      <td>NaN</td>\n",
       "      <td>Emmanuel College</td>\n",
       "      <td>2018-2019</td>\n",
       "      <td>12 Glenville AVE, 2134</td>\n",
       "    </tr>\n",
       "    <tr>\n",
       "      <th>4</th>\n",
       "      <td>U</td>\n",
       "      <td>FT</td>\n",
       "      <td>NaN</td>\n",
       "      <td>Emmanuel College</td>\n",
       "      <td>2018-2019</td>\n",
       "      <td>12 Glenville AVE, 2134</td>\n",
       "    </tr>\n",
       "  </tbody>\n",
       "</table>\n",
       "</div>"
      ],
      "text/plain": [
       "  7. undergraduate (u) or graduate (g) 8. full-time (ft) or part-time (pt)  \\\n",
       "0                                    U                                  FT   \n",
       "1                                    U                                  FT   \n",
       "2                                    U                                  FT   \n",
       "3                                    U                                  FT   \n",
       "4                                    U                                  FT   \n",
       "\n",
       "  9. 5 or more undergrads/unit (y/n)        university       year  \\\n",
       "0                                NaN  Emmanuel College  2018-2019   \n",
       "1                                NaN  Emmanuel College  2018-2019   \n",
       "2                                NaN  Emmanuel College  2018-2019   \n",
       "3                                NaN  Emmanuel College  2018-2019   \n",
       "4                                NaN  Emmanuel College  2018-2019   \n",
       "\n",
       "                  full_address  \n",
       "0          10 Higgins ST, 2134  \n",
       "1          10 Higgins ST, 2134  \n",
       "2  1189 Commonwealth AVE, 2134  \n",
       "3       12 Glenville AVE, 2134  \n",
       "4       12 Glenville AVE, 2134  "
      ]
     },
     "execution_count": 17,
     "metadata": {},
     "output_type": "execute_result"
    }
   ],
   "source": [
    "# Load data, ready for cleaning and drop obvious not needed columsn \n",
    "df = pd.read_csv('StudentAddresses(UP).csv', low_memory=False)\n",
    "df = df.drop(columns=['6d. unit #'])\n",
    "df = df.drop(columns=['9. at-home or not-at-home'])\n",
    "df['full_address'] = df['6a. street #'].astype(str) + ' ' + \\\n",
    "                     df['6b. street name'] + ' ' + \\\n",
    "                     df['6c. street suffix'] + ', ' + \\\n",
    "                     df['6e. zip'].astype(str)\n",
    "df['full_address'] = df['6a. street #'].astype(str) + ' ' + \\\n",
    "                     df['6b. street name'] + ' ' + \\\n",
    "                     df['6c. street suffix'] + ', ' + \\\n",
    "                     df['6e. zip'].astype(str)\n",
    "\n",
    "print(df[['full_address']])\n",
    "\n",
    "df = df.drop(columns=['6a. street #'])\n",
    "df = df.drop(columns=['6b. street name'])\n",
    "df = df.drop(columns=['6c. street suffix'])\n",
    "df = df.drop(columns=['6e. zip'])\n",
    "\n",
    "# dropping the NaN values: \n",
    "df_cleaned = df[~df['full_address'].str.contains('nan', case=False)].reset_index(drop=True)\n",
    "\n",
    "# Display cleaned DataFrame\n",
    "print(df_cleaned)\n",
    "# Display the first few rows to check \n",
    "# \n",
    "df.head()\n",
    "\n"
   ]
  },
  {
   "cell_type": "code",
   "execution_count": null,
   "metadata": {},
   "outputs": [
    {
     "name": "stdout",
     "output_type": "stream",
     "text": [
      "                       full_address\n",
      "0               10 Higgins ST, 2134\n",
      "1               10 Higgins ST, 2134\n",
      "2       1189 Commonwealth AVE, 2134\n",
      "3            12 Glenville AVE, 2134\n",
      "4            12 Glenville AVE, 2134\n",
      "...                             ...\n",
      "310326                          NaN\n",
      "310327                          NaN\n",
      "310328         15 SYMPHONY RD, 2215\n",
      "310329    37 PAUL GORE STREET, 2130\n",
      "310330    300 HARRISON AVENUE, 2118\n",
      "\n",
      "[310331 rows x 1 columns]\n"
     ]
    }
   ],
   "source": []
  },
  {
   "cell_type": "markdown",
   "metadata": {},
   "source": [
    "### First job is to cluster the people together of the same district: \n"
   ]
  },
  {
   "cell_type": "code",
   "execution_count": null,
   "metadata": {},
   "outputs": [],
   "source": []
  },
  {
   "cell_type": "markdown",
   "metadata": {},
   "source": [
    "We are going to first start by converting our address into "
   ]
  }
 ],
 "metadata": {
  "kernelspec": {
   "display_name": ".venv",
   "language": "python",
   "name": "python3"
  },
  "language_info": {
   "codemirror_mode": {
    "name": "ipython",
    "version": 3
   },
   "file_extension": ".py",
   "mimetype": "text/x-python",
   "name": "python",
   "nbconvert_exporter": "python",
   "pygments_lexer": "ipython3",
   "version": "3.13.2"
  }
 },
 "nbformat": 4,
 "nbformat_minor": 2
}
